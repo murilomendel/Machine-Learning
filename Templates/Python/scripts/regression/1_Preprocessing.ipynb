{
 "cells": [
  {
   "cell_type": "markdown",
   "metadata": {},
   "source": [
    "### 1 - Loading Libraries"
   ]
  },
  {
   "cell_type": "code",
   "execution_count": null,
   "metadata": {},
   "outputs": [],
   "source": [
    "# Importing libraries\n",
    "import numpy as np\n",
    "import matplotlib.pyplot as plt\n",
    "import pandas as pd\n",
    "from sklearn.impute import SimpleImputer # Deal wirh missing values\n",
    "from sklearn.compose import ColumnTransformer # Encode categorical data\n",
    "from sklearn.preprocessing import OneHotEncoder # Binary Representation\n",
    "from sklearn.preprocessing import LabelEncoder\n",
    "from sklearn.model_selection import train_test_split\n",
    "from sklearn.preprocessing import StandardScaler"
   ]
  },
  {
   "cell_type": "markdown",
   "metadata": {},
   "source": [
    "### 2 - Reading Datasets"
   ]
  },
  {
   "cell_type": "code",
   "execution_count": null,
   "metadata": {},
   "outputs": [],
   "source": [
    "# Reading dataset\n",
    "dataset = pd.read_csv('../../input/Data.csv')\n",
    "\n",
    "# Independent Variable\n",
    "X = dataset.iloc[:, :-1].values #.iloc[first_line:last_line, first_column:last_column]\n",
    "Y = dataset.iloc[:, -1].values\n",
    "# Dependent Variable\n",
    "\n",
    "print(X)\n",
    "print(Y)"
   ]
  },
  {
   "cell_type": "markdown",
   "metadata": {},
   "source": [
    "### Missing values treatment"
   ]
  },
  {
   "cell_type": "code",
   "execution_count": null,
   "metadata": {},
   "outputs": [],
   "source": [
    "# Dealing with missing values\n",
    "imputer = SimpleImputer(missing_values=np.nan, strategy='mean') # Create a replace method\n",
    "imputer.fit(X[:, 1:3]) # Replace missing values of columns 1 and 2 from previously rule\n",
    "X[:, 1:3] = imputer.transform(X[:, 1:3]) # Replace transformed columns.\n",
    "\n",
    "print(X)"
   ]
  },
  {
   "cell_type": "markdown",
   "metadata": {},
   "source": [
    "### Encoding categorical data"
   ]
  },
  {
   "cell_type": "code",
   "execution_count": null,
   "metadata": {},
   "outputs": [],
   "source": [
    "# Column transformer class\n",
    "ct = ColumnTransformer(transformers=[('encoder', OneHotEncoder(), [0])], remainder='passthrough')\n",
    "X = np.array(ct.fit_transform(X))\n",
    "\n",
    "print(X)"
   ]
  },
  {
   "cell_type": "code",
   "execution_count": null,
   "metadata": {},
   "outputs": [],
   "source": [
    "le = LabelEncoder()\n",
    "Y = le.fit_transform(Y)\n",
    "\n",
    "print(Y)"
   ]
  },
  {
   "cell_type": "markdown",
   "metadata": {},
   "source": [
    "### Splitting dataset: Train and Test"
   ]
  },
  {
   "cell_type": "code",
   "execution_count": null,
   "metadata": {
    "scrolled": true
   },
   "outputs": [],
   "source": [
    "train_X, test_X, train_Y, test_Y = train_test_split(X, Y, test_size = 0.2, random_state = 1)\n",
    "print(train_X)\n",
    "print(test_X)\n",
    "print(train_Y)\n",
    "print(test_Y)"
   ]
  },
  {
   "cell_type": "markdown",
   "metadata": {},
   "source": [
    "### Feature Scaling\n",
    "\n",
    "* $Standatization = \\frac{x - mean(x)}{standard deviation(x)} \\in [-3,3]\\$: Recomended in any situation.\n",
    "\n",
    "\n",
    "* $Normalization = \\frac{x - min(x)}{max(x) - min(x)} \\in [0,1]$: Recomended when we have normal distribution in most of our features."
   ]
  },
  {
   "cell_type": "code",
   "execution_count": null,
   "metadata": {},
   "outputs": [],
   "source": [
    "sc = StandardScaler()\n",
    "train_X[:, 3:] = sc.fit_transform(train_X[:, 3:])\n",
    "test_X[:, 3:] = sc.transform(test_X[:, 3:]) # Traanform with train mean and sd.\n",
    "\n",
    "print(train_X)\n",
    "print(test_X)"
   ]
  }
 ],
 "metadata": {
  "kernelspec": {
   "display_name": "Python 3",
   "language": "python",
   "name": "python3"
  },
  "language_info": {
   "codemirror_mode": {
    "name": "ipython",
    "version": 3
   },
   "file_extension": ".py",
   "mimetype": "text/x-python",
   "name": "python",
   "nbconvert_exporter": "python",
   "pygments_lexer": "ipython3",
   "version": "3.6.2"
  }
 },
 "nbformat": 4,
 "nbformat_minor": 4
}
