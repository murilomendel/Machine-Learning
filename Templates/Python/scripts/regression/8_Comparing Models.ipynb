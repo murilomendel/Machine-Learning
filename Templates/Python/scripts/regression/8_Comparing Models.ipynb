{
 "cells": [
  {
   "cell_type": "markdown",
   "metadata": {},
   "source": [
    "### Importing Libraries"
   ]
  },
  {
   "cell_type": "code",
   "execution_count": null,
   "metadata": {},
   "outputs": [],
   "source": [
    "import numpy as np\n",
    "import matplotlib.pyplot as plt\n",
    "import pandas as pd\n",
    "from sklearn.model_selection import train_test_split\n",
    "from sklearn.preprocessing import StandardScaler\n",
    "from sklearn.linear_model import LinearRegression\n",
    "from sklearn.preprocessing import PolynomialFeatures\n",
    "from sklearn.tree import DecisionTreeRegressor\n",
    "from sklearn.ensemble import RandomForestRegressor\n",
    "from sklearn.svm import SVR\n",
    "from sklearn.metrics import r2_score"
   ]
  },
  {
   "cell_type": "markdown",
   "metadata": {},
   "source": [
    "### Reading Dataset"
   ]
  },
  {
   "cell_type": "code",
   "execution_count": null,
   "metadata": {},
   "outputs": [],
   "source": [
    "dataset = pd.read_csv(\"../../input/Data.csv\")\n",
    "X = dataset.iloc[:, :-1].values\n",
    "y = dataset.iloc[:, -1].values\n",
    "\n",
    "y = y.reshape(len(y), 1)"
   ]
  },
  {
   "cell_type": "markdown",
   "metadata": {},
   "source": [
    "### Splitting Training / Testing"
   ]
  },
  {
   "cell_type": "code",
   "execution_count": null,
   "metadata": {},
   "outputs": [],
   "source": [
    "X_train, X_test, y_train, y_test = train_test_split(X, y, test_size = 0.2, random_state = 0)"
   ]
  },
  {
   "cell_type": "markdown",
   "metadata": {},
   "source": [
    "### Feature Scaling"
   ]
  },
  {
   "cell_type": "code",
   "execution_count": null,
   "metadata": {},
   "outputs": [],
   "source": [
    "sc_X = StandardScaler()\n",
    "sc_y = StandardScaler()\n",
    "X_train_sc = sc_X.fit_transform(X_train)\n",
    "y_train_sc = sc_y.fit_transform(y_train)"
   ]
  },
  {
   "cell_type": "markdown",
   "metadata": {},
   "source": [
    "### Training Models"
   ]
  },
  {
   "cell_type": "code",
   "execution_count": null,
   "metadata": {},
   "outputs": [],
   "source": [
    "# Linear Regression Fit\n",
    "linear_regressor = LinearRegression()\n",
    "linear_regressor.fit(X_train, y_train)\n",
    "\n",
    "# Polynomial Regression Fit\n",
    "poly_reg = PolynomialFeatures(degree = 4)\n",
    "X_poly = poly_reg.fit_transform(X_train)\n",
    "polynomial_regressor = LinearRegression()\n",
    "polynomial_regressor.fit(X_poly, y_train)\n",
    "\n",
    "# Support Vector Regressor\n",
    "svr_regressor = SVR(kernel = 'rbf')\n",
    "svr_regressor.fit(X_train_sc, y_train_sc)\n",
    "\n",
    "# Decision Tree Regression\n",
    "dt_regressor = DecisionTreeRegressor(random_state = 0)\n",
    "dt_regressor.fit(X_train, y_train)\n",
    "\n",
    "# Random Forest Regression\n",
    "rf_regressor = RandomForestRegressor(n_estimators = 10, random_state = 0)\n",
    "rf_regressor.fit(X_train, y_train)"
   ]
  },
  {
   "cell_type": "markdown",
   "metadata": {},
   "source": [
    "### Predicting"
   ]
  },
  {
   "cell_type": "code",
   "execution_count": null,
   "metadata": {
    "scrolled": true
   },
   "outputs": [],
   "source": [
    "np.set_printoptions(precision=2)\n",
    "\n",
    "# Multiple Linear Regression\n",
    "y_pred_lr = linear_regressor.predict(X_test)\n",
    "print(\"Multiple Linear Regression Prediction:\")\n",
    "print(np.concatenate((y_pred_lr.reshape(len(y_pred_lr),1), y_test.reshape(len(y_test),1)),1))\n",
    "\n",
    "# Polynomial Regression\n",
    "y_pred_pr = polynomial_regressor.predict(poly_reg.transform(X_test))\n",
    "print(\"\\nPolynomial Regression Prediction:\")\n",
    "print(np.concatenate((y_pred_pr.reshape(len(y_pred_pr),1), y_test.reshape(len(y_test),1)),1))\n",
    "\n",
    "# Support Vector Regression\n",
    "y_pred_svr = sc_y.inverse_transform(svr_regressor.predict(sc_X.transform(X_test)))\n",
    "print(\"\\nSupport Vector Regression Prediction:\")\n",
    "print(np.concatenate((y_pred_svr.reshape(len(y_pred_svr),1), y_test.reshape(len(y_test),1)),1))\n",
    "\n",
    "# Decision Tree Regression\n",
    "y_pred_dt = dt_regressor.predict(X_test)\n",
    "print(\"\\nDecision Tree Regression Prediction:\")\n",
    "print(np.concatenate((y_pred_dt.reshape(len(y_pred_dt),1), y_test.reshape(len(y_test),1)),1))\n",
    "\n",
    "\n",
    "# Random Forest Regression\n",
    "y_pred_rf = rf_regressor.predict(X_test)\n",
    "print(\"\\nRandom Forest Regression Prediction:\")\n",
    "print(np.concatenate((y_pred_rf.reshape(len(y_pred_rf),1), y_test.reshape(len(y_test),1)),1))\n"
   ]
  },
  {
   "cell_type": "markdown",
   "metadata": {},
   "source": [
    "### Performance Evaluation"
   ]
  },
  {
   "cell_type": "code",
   "execution_count": null,
   "metadata": {},
   "outputs": [],
   "source": [
    "print(\"Multiple Linear Regression Performance\")\n",
    "print(r2_score(y_test, y_pred_lr))\n",
    "\n",
    "print(\"\\nPolynomial Regression Performance\")\n",
    "print(r2_score(y_test, y_pred_pr))\n",
    "\n",
    "print(\"\\nSupport Vector Regression Performance\")\n",
    "print(r2_score(y_test, y_pred_svr))\n",
    "\n",
    "print(\"\\nDecision Tree Regression Performance\")\n",
    "print(r2_score(y_test, y_pred_dt))\n",
    "\n",
    "print(\"\\nRandom Forest Regression Performance\")\n",
    "print(r2_score(y_test, y_pred_rf))"
   ]
  }
 ],
 "metadata": {
  "kernelspec": {
   "display_name": "Python 3",
   "language": "python",
   "name": "python3"
  },
  "language_info": {
   "codemirror_mode": {
    "name": "ipython",
    "version": 3
   },
   "file_extension": ".py",
   "mimetype": "text/x-python",
   "name": "python",
   "nbconvert_exporter": "python",
   "pygments_lexer": "ipython3",
   "version": "3.6.2"
  }
 },
 "nbformat": 4,
 "nbformat_minor": 4
}
